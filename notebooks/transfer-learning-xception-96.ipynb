{
 "cells": [
  {
   "cell_type": "code",
   "execution_count": 1,
   "metadata": {},
   "outputs": [],
   "source": [
    "# del model\n",
    "# del X_train,Y_train"
   ]
  },
  {
   "cell_type": "code",
   "execution_count": 1,
   "metadata": {
    "_cell_guid": "79c7e3d0-c299-4dcb-8224-4455121ee9b0",
    "_uuid": "d629ff2d2480ee46fbb7e2d37f6b5fab8052498a",
    "tags": []
   },
   "outputs": [
    {
     "name": "stderr",
     "output_type": "stream",
     "text": [
      "2024-04-26 20:49:47.077194: E external/local_xla/xla/stream_executor/cuda/cuda_dnn.cc:9261] Unable to register cuDNN factory: Attempting to register factory for plugin cuDNN when one has already been registered\n",
      "2024-04-26 20:49:47.077262: E external/local_xla/xla/stream_executor/cuda/cuda_fft.cc:607] Unable to register cuFFT factory: Attempting to register factory for plugin cuFFT when one has already been registered\n",
      "2024-04-26 20:49:47.192222: E external/local_xla/xla/stream_executor/cuda/cuda_blas.cc:1515] Unable to register cuBLAS factory: Attempting to register factory for plugin cuBLAS when one has already been registered\n",
      "2024-04-26 20:49:47.329379: I tensorflow/core/platform/cpu_feature_guard.cc:182] This TensorFlow binary is optimized to use available CPU instructions in performance-critical operations.\n",
      "To enable the following instructions: SSE4.1 SSE4.2 AVX AVX2 FMA, in other operations, rebuild TensorFlow with the appropriate compiler flags.\n"
     ]
    }
   ],
   "source": [
    "import tensorflow as tf\n",
    "from tensorflow import keras\n",
    "from tensorflow import one_hot\n",
    "from tensorflow.keras.applications import xception\n",
    "from tensorflow.keras.preprocessing import image\n",
    "import os\n",
    "import numpy as np\n",
    "import pandas as pd\n",
    "import matplotlib.pyplot as plt\n",
    "import cv2\n",
    "from IPython.display import clear_output\n",
    "import gc"
   ]
  },
  {
   "cell_type": "code",
   "execution_count": 2,
   "metadata": {
    "tags": []
   },
   "outputs": [
    {
     "data": {
      "text/plain": [
       "['Fat Hen',\n",
       " 'Maize',\n",
       " 'Small-flowered Cranesbill',\n",
       " 'Common Chickweed',\n",
       " 'Common wheat',\n",
       " 'Charlock',\n",
       " 'Black-grass',\n",
       " 'Loose Silky-bent',\n",
       " 'Shepherds Purse',\n",
       " 'Scentless Mayweed',\n",
       " 'Cleavers',\n",
       " 'Sugar beet']"
      ]
     },
     "execution_count": 2,
     "metadata": {},
     "output_type": "execute_result"
    }
   ],
   "source": [
    "CATEGORIES = os.listdir(\"./data/train\")\n",
    "CATEGORIES"
   ]
  },
  {
   "cell_type": "code",
   "execution_count": 3,
   "metadata": {
    "tags": []
   },
   "outputs": [],
   "source": [
    "\n",
    "# initial_learning_rate = 0.003 #initial rate\n",
    "# # Rate decay with exponential decay\n",
    "# # new rate = initial_learning_rate * decay_rate ^ (step / decay_steps)\n",
    "# #step per epoch = 95\n",
    "# lr_schedule = tf.keras.optimizers.schedules.ExponentialDecay(\n",
    "#     initial_learning_rate,\n",
    "#     decay_steps=480,\n",
    "#     decay_rate=0.5,\n",
    "#     staircase=False)"
   ]
  },
  {
   "cell_type": "code",
   "execution_count": 4,
   "metadata": {
    "tags": []
   },
   "outputs": [
    {
     "name": "stderr",
     "output_type": "stream",
     "text": [
      "2024-04-26 20:50:01.662170: I tensorflow/core/common_runtime/gpu/gpu_device.cc:1929] Created device /job:localhost/replica:0/task:0/device:GPU:0 with 79087 MB memory:  -> device: 0, name: NVIDIA A100-SXM4-80GB, pci bus id: 0000:07:00.0, compute capability: 8.0\n",
      "2024-04-26 20:50:01.664954: I tensorflow/core/common_runtime/gpu/gpu_device.cc:1929] Created device /job:localhost/replica:0/task:0/device:GPU:1 with 79087 MB memory:  -> device: 1, name: NVIDIA A100-SXM4-80GB, pci bus id: 0000:0f:00.0, compute capability: 8.0\n",
      "2024-04-26 20:50:01.669134: I tensorflow/core/common_runtime/gpu/gpu_device.cc:1929] Created device /job:localhost/replica:0/task:0/device:GPU:2 with 79087 MB memory:  -> device: 2, name: NVIDIA A100-SXM4-80GB, pci bus id: 0000:90:00.0, compute capability: 8.0\n"
     ]
    }
   ],
   "source": [
    "pretrained = xception.Xception(input_shape=[240,240, 3], include_top=False)"
   ]
  },
  {
   "cell_type": "code",
   "execution_count": 5,
   "metadata": {
    "tags": []
   },
   "outputs": [],
   "source": [
    "pretrained.trainable = True"
   ]
  },
  {
   "cell_type": "code",
   "execution_count": 6,
   "metadata": {
    "tags": []
   },
   "outputs": [],
   "source": [
    "model = tf.keras.Sequential([\n",
    "    pretrained,\n",
    "    tf.keras.layers.GlobalAveragePooling2D(),\n",
    "    tf.keras.layers.Dense(100, activation=\"relu\"),\n",
    "    tf.keras.layers.BatchNormalization(trainable = True,axis=1),\n",
    "    \n",
    "    tf.keras.layers.Dropout(0.5),\n",
    "    \n",
    "    tf.keras.layers.Dense(50, activation=\"relu\"),\n",
    "    tf.keras.layers.BatchNormalization(trainable = True,axis=1),\n",
    "    \n",
    "    tf.keras.layers.Dense(12,activation='softmax')\n",
    "])"
   ]
  },
  {
   "cell_type": "code",
   "execution_count": 7,
   "metadata": {
    "tags": []
   },
   "outputs": [
    {
     "name": "stdout",
     "output_type": "stream",
     "text": [
      "Model: \"sequential\"\n",
      "_________________________________________________________________\n",
      " Layer (type)                Output Shape              Param #   \n",
      "=================================================================\n",
      " xception (Functional)       (None, 8, 8, 2048)        20861480  \n",
      "                                                                 \n",
      " global_average_pooling2d (  (None, 2048)              0         \n",
      " GlobalAveragePooling2D)                                         \n",
      "                                                                 \n",
      " dense (Dense)               (None, 100)               204900    \n",
      "                                                                 \n",
      " batch_normalization_4 (Bat  (None, 100)               400       \n",
      " chNormalization)                                                \n",
      "                                                                 \n",
      " dropout (Dropout)           (None, 100)               0         \n",
      "                                                                 \n",
      " dense_1 (Dense)             (None, 50)                5050      \n",
      "                                                                 \n",
      " batch_normalization_5 (Bat  (None, 50)                200       \n",
      " chNormalization)                                                \n",
      "                                                                 \n",
      " dense_2 (Dense)             (None, 12)                612       \n",
      "                                                                 \n",
      "=================================================================\n",
      "Total params: 21072642 (80.39 MB)\n",
      "Trainable params: 21017814 (80.18 MB)\n",
      "Non-trainable params: 54828 (214.17 KB)\n",
      "_________________________________________________________________\n"
     ]
    }
   ],
   "source": [
    "model.summary()"
   ]
  },
  {
   "cell_type": "code",
   "execution_count": 8,
   "metadata": {
    "tags": []
   },
   "outputs": [],
   "source": [
    "model.compile(optimizer=tf.keras.optimizers.Nadam(learning_rate=0.001),\n",
    "              loss=tf.keras.losses.CategoricalCrossentropy(),\n",
    "              metrics=['accuracy'])"
   ]
  },
  {
   "cell_type": "code",
   "execution_count": 9,
   "metadata": {
    "tags": []
   },
   "outputs": [],
   "source": [
    "train_datagen = tf.keras.preprocessing.image.ImageDataGenerator(\n",
    "    rotation_range=20,\n",
    "    zoom_range=0.15,\n",
    "    width_shift_range=0.2,\n",
    "    height_shift_range=0.2,\n",
    "    shear_range=0.15,\n",
    "    horizontal_flip=True,\n",
    "    brightness_range=[0.4,1],\n",
    "    rescale=1.0/255.0)\n",
    "\n",
    "test_datagen = tf.keras.preprocessing.image.ImageDataGenerator(rescale=1.0/255.0)\n",
    "pathh = \"./data/train/\""
   ]
  },
  {
   "cell_type": "code",
   "execution_count": 12,
   "metadata": {
    "tags": []
   },
   "outputs": [
    {
     "name": "stdout",
     "output_type": "stream",
     "text": [
      "Found 4750 images belonging to 12 classes.\n",
      "Epoch 1/7\n",
      "75/75 [==============================] - ETA: 0s - loss: 0.3068 - accuracy: 0.9116\n",
      "Epoch 1: accuracy improved from -inf to 0.91158, saving model to model/weights.best_01-0.91.hdf5\n"
     ]
    },
    {
     "name": "stderr",
     "output_type": "stream",
     "text": [
      "/apps/tensorflow/2.15/lib/python3.11/site-packages/keras/src/engine/training.py:3103: UserWarning: You are saving your model as an HDF5 file via `model.save()`. This file format is considered legacy. We recommend using instead the native Keras format, e.g. `model.save('my_model.keras')`.\n",
      "  saving_api.save_model(\n"
     ]
    },
    {
     "name": "stdout",
     "output_type": "stream",
     "text": [
      "\n",
      "Epoch 1: saving model to model/weights.last_auto4.hdf5\n",
      "75/75 [==============================] - 92s 1s/step - loss: 0.3068 - accuracy: 0.9116 - lr: 0.0010\n",
      "Epoch 2/7\n",
      "75/75 [==============================] - ETA: 0s - loss: 0.3005 - accuracy: 0.9141\n",
      "Epoch 2: accuracy improved from 0.91158 to 0.91411, saving model to model/weights.best_02-0.91.hdf5\n",
      "\n",
      "Epoch 2: saving model to model/weights.last_auto4.hdf5\n",
      "75/75 [==============================] - 88s 1s/step - loss: 0.3005 - accuracy: 0.9141 - lr: 0.0010\n",
      "Epoch 3/7\n",
      "75/75 [==============================] - ETA: 0s - loss: 0.1910 - accuracy: 0.9413\n",
      "Epoch 3: accuracy improved from 0.91411 to 0.94126, saving model to model/weights.best_03-0.94.hdf5\n",
      "\n",
      "Epoch 3: saving model to model/weights.last_auto4.hdf5\n",
      "75/75 [==============================] - 137s 2s/step - loss: 0.1910 - accuracy: 0.9413 - lr: 0.0010\n",
      "Epoch 4/7\n",
      "75/75 [==============================] - ETA: 0s - loss: 0.1605 - accuracy: 0.9556\n",
      "Epoch 4: accuracy improved from 0.94126 to 0.95558, saving model to model/weights.best_04-0.96.hdf5\n",
      "\n",
      "Epoch 4: saving model to model/weights.last_auto4.hdf5\n",
      "75/75 [==============================] - 92s 1s/step - loss: 0.1605 - accuracy: 0.9556 - lr: 0.0010\n",
      "Epoch 5/7\n",
      "75/75 [==============================] - ETA: 0s - loss: 0.1754 - accuracy: 0.9491\n",
      "Epoch 5: accuracy did not improve from 0.95558\n",
      "\n",
      "Epoch 5: saving model to model/weights.last_auto4.hdf5\n",
      "75/75 [==============================] - 87s 1s/step - loss: 0.1754 - accuracy: 0.9491 - lr: 0.0010\n",
      "Epoch 6/7\n",
      "75/75 [==============================] - ETA: 0s - loss: 0.1464 - accuracy: 0.9606\n",
      "Epoch 6: accuracy improved from 0.95558 to 0.96063, saving model to model/weights.best_06-0.96.hdf5\n",
      "\n",
      "Epoch 6: saving model to model/weights.last_auto4.hdf5\n",
      "75/75 [==============================] - 118s 2s/step - loss: 0.1464 - accuracy: 0.9606 - lr: 0.0010\n",
      "Epoch 7/7\n",
      "75/75 [==============================] - ETA: 0s - loss: 0.1311 - accuracy: 0.9606\n",
      "Epoch 7: accuracy did not improve from 0.96063\n",
      "\n",
      "Epoch 7: saving model to model/weights.last_auto4.hdf5\n",
      "75/75 [==============================] - 87s 1s/step - loss: 0.1311 - accuracy: 0.9606 - lr: 0.0010\n"
     ]
    }
   ],
   "source": [
    "from keras.callbacks import ModelCheckpoint, ReduceLROnPlateau, CSVLogger\n",
    "\n",
    "# learning rate reduction\n",
    "learning_rate_reduction = ReduceLROnPlateau(monitor='accuracy', \n",
    "                                            patience=3, \n",
    "                                            verbose=1, \n",
    "                                            factor=0.4, \n",
    "                                            min_lr=0.00001)\n",
    "\n",
    "# checkpoints\n",
    "filepath=\"model/weights.best_{epoch:02d}-{accuracy:.2f}.hdf5\"\n",
    "checkpoint = ModelCheckpoint(filepath, monitor='accuracy', \n",
    "                             verbose=1, save_best_only=True, mode='max')\n",
    "filepath=\"model/weights.last_auto4.hdf5\"\n",
    "checkpoint_all = ModelCheckpoint(filepath, monitor='accuracy', \n",
    "                                 verbose=1, save_best_only=False, mode='max')\n",
    "\n",
    "# all callbacks\n",
    "callbacks_list = [checkpoint, learning_rate_reduction, checkpoint_all]\n",
    "\n",
    "result = model.fit(train_datagen.flow_from_directory(pathh,\n",
    "                                        target_size=(240, 240), \n",
    "                                        color_mode='rgb', \n",
    "                                        class_mode='categorical', \n",
    "                                        batch_size=64, \n",
    "                                        shuffle=True),\n",
    "                    epochs=7,\n",
    "                    verbose=1,callbacks=callbacks_list)"
   ]
  },
  {
   "cell_type": "code",
   "execution_count": 13,
   "metadata": {
    "tags": []
   },
   "outputs": [
    {
     "data": {
      "text/plain": [
       "dict_keys(['loss', 'accuracy', 'lr'])"
      ]
     },
     "execution_count": 13,
     "metadata": {},
     "output_type": "execute_result"
    }
   ],
   "source": [
    "result.history.keys()"
   ]
  },
  {
   "cell_type": "code",
   "execution_count": 14,
   "metadata": {
    "tags": []
   },
   "outputs": [
    {
     "data": {
      "image/png": "[encoded data removed]",
      "text/plain": [
       "<Figure size 640x480 with 1 Axes>"
      ]
     },
     "metadata": {},
     "output_type": "display_data"
    },
    {
     "data": {
      "image/png": "[encoded data removed]",
      "text/plain": [
       "<Figure size 640x480 with 1 Axes>"
      ]
     },
     "metadata": {},
     "output_type": "display_data"
    }
   ],
   "source": [
    "plt.plot(result.history['accuracy'], label='train')\n",
    "# plt.plot(result.history['val_accuracy'], label='valid')\n",
    "plt.legend(loc='upper left')\n",
    "plt.title('Model accuracy')\n",
    "plt.ylabel('Accuracy')\n",
    "plt.xlabel('Epoch')\n",
    "plt.show()\n",
    "plt.plot(result.history['loss'], label='train')\n",
    "# plt.plot(result.history['val_loss'], label='test')\n",
    "plt.legend(loc='upper right')\n",
    "plt.title('Model Cost')\n",
    "plt.ylabel('Cost')\n",
    "plt.xlabel('Epoch')\n",
    "plt.show()"
   ]
  },
  {
   "cell_type": "markdown",
   "metadata": {},
   "source": [
    "140\n",
    "0.0006\n",
    "160\n",
    "0.0001\n",
    "180\n",
    "0.00001"
   ]
  },
  {
   "cell_type": "code",
   "execution_count": null,
   "metadata": {},
   "outputs": [],
   "source": []
  }
 ],
 "metadata": {
  "kernelspec": {
   "display_name": "Tensorflow-2.15",
   "language": "python",
   "name": "tensorflow-2.15"
  },
  "language_info": {
   "codemirror_mode": {
    "name": "ipython",
    "version": 3
   },
   "file_extension": ".py",
   "mimetype": "text/x-python",
   "name": "python",
   "nbconvert_exporter": "python",
   "pygments_lexer": "ipython3",
   "version": "3.11.5"
  }
 },
 "nbformat": 4,
 "nbformat_minor": 4
}
